{
 "cells": [
  {
   "cell_type": "code",
   "execution_count": 2,
   "id": "e6dd30ca-25fd-4d23-9457-1611b0662b07",
   "metadata": {},
   "outputs": [],
   "source": [
    "\"\"\"\n",
    "funitures and prices\n",
    "\"\"\"\n",
    "lovely_loveseat_description = \"Lovely Loveseat. Tufted polyester blend on wood. 32 inches high x 40 inches wide x 30 inches deep. Red or white.\"\n",
    "lovely_loveseat_price = 254.00\n",
    "stylish_settee_description = \"Stylish Settee. Faux leather on birch. 29.50 inches high x 54.75 inches wide x 28 inches deep. Black.\"\n",
    "stylish_settee_price = 180.50\n",
    "luxurious_lamp_description = \"Luxurious Lamp. Glass and iron. 36 inches tall. Brown with cream shade.\"\n",
    "luxurious_lamp_price = 52.15\n",
    "sales_tax = .088"
   ]
  },
  {
   "cell_type": "code",
   "execution_count": 7,
   "id": "ae25293a-c1c5-43d9-850b-5dcc42a6984c",
   "metadata": {},
   "outputs": [
    {
     "name": "stdout",
     "output_type": "stream",
     "text": [
      "Customer One Items:\n",
      "Lovely Loveseat. Tufted polyester blend on wood. 32 inches high x 40 inches wide x 30 inches deep. Red or white.Luxurious Lamp. Glass and iron. 36 inches tall. Brown with cream shade.\n",
      "Customer One Total:\n",
      "333.09119999999996\n"
     ]
    }
   ],
   "source": [
    "\"\"\"\n",
    "Customer's purchase list\n",
    "\"\"\"\n",
    "customer_one_total = 0\n",
    "customer_one_itemization =\"\"\n",
    "#the customer purchases a Lovely Loveseat\n",
    "customer_one_total += lovely_loveseat_price\n",
    "customer_one_itemization += lovely_loveseat_description\n",
    "#the customner purchases a luxurious lamp\n",
    "customer_one_total += luxurious_lamp_price\n",
    "customer_one_itemization += luxurious_lamp_description\n",
    "#check out\n",
    "customer_one_tax = customer_one_total*sales_tax\n",
    "customer_one_total += customer_one_tax\n",
    "#print your customer's purchase list\n",
    "print(\"Customer One Items:\")\n",
    "print(customer_one_itemization)\n",
    "print(\"Customer One Total:\")\n",
    "print(customer_one_total)"
   ]
  },
  {
   "cell_type": "code",
   "execution_count": null,
   "id": "449c8ea8-b3da-4ab7-b1be-43e66953bdc3",
   "metadata": {},
   "outputs": [],
   "source": []
  }
 ],
 "metadata": {
  "kernelspec": {
   "display_name": "Python 3",
   "language": "python",
   "name": "python3"
  },
  "language_info": {
   "codemirror_mode": {
    "name": "ipython",
    "version": 3
   },
   "file_extension": ".py",
   "mimetype": "text/x-python",
   "name": "python",
   "nbconvert_exporter": "python",
   "pygments_lexer": "ipython3",
   "version": "3.8.8"
  }
 },
 "nbformat": 4,
 "nbformat_minor": 5
}
