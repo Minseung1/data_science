{
 "cells": [
  {
   "cell_type": "code",
   "execution_count": 1,
   "id": "3e8f11ec-2dfa-4344-86bf-7cd7d2778ce1",
   "metadata": {},
   "outputs": [],
   "source": [
    "\"\"\"\n",
    "Carly's Clippers\n",
    "\"\"\"\n",
    "hairstyles = [\"bouffant\", \"pixie\", \"dreadlocks\", \"crew\", \"bowl\", \"bob\", \"mohawk\", \"flattop\"]\n",
    "prices = [30, 25, 40, 20, 20, 35, 50, 35]\n",
    "last_week = [2, 3, 5, 8, 4, 4, 6, 2]\n"
   ]
  },
  {
   "cell_type": "code",
   "execution_count": 15,
   "id": "0c243f16-cec9-4f56-9562-e6a534d2124f",
   "metadata": {},
   "outputs": [
    {
     "name": "stdout",
     "output_type": "stream",
     "text": [
      "Average price is  31.875\n",
      "new prices :  [25, 20, 35, 15, 15, 30, 45, 30]\n"
     ]
    }
   ],
   "source": [
    "\"\"\"\n",
    "Prices and Cuts\n",
    "\"\"\"\n",
    "total_price = 0\n",
    "\n",
    "for price in prices:\n",
    "    total_price += price\n",
    "average_price = total_price/len(prices)\n",
    "print(\"Average price is \",average_price)\n",
    "#the prices are too expensive\n",
    "new_prices = [i-5 for i in prices]\n",
    "print(\"new prices : \",new_prices)"
   ]
  },
  {
   "cell_type": "code",
   "execution_count": 27,
   "id": "3135e7e2-ff4c-4903-a1a7-c46bdf152a5a",
   "metadata": {},
   "outputs": [
    {
     "name": "stdout",
     "output_type": "stream",
     "text": [
      "Total revenue is 1085\n",
      "Average daily revenue is  155.0\n"
     ]
    }
   ],
   "source": [
    "\"\"\"\n",
    "Revenue\n",
    "\"\"\"\n",
    "total_revenue = 0\n",
    "for i in range(8):\n",
    "   total_revenue += prices[i]*last_week[i]\n",
    "print(\"Total revenue is\",total_revenue)\n",
    "average_daily_revenue = total_revenue/7\n",
    "print(\"Average daily revenue is \",average_daily_revenue)"
   ]
  },
  {
   "cell_type": "code",
   "execution_count": 35,
   "id": "0b130266-3f45-4c93-a384-a11710ebbdad",
   "metadata": {},
   "outputs": [
    {
     "name": "stdout",
     "output_type": "stream",
     "text": [
      "['bouffant', 'pixie', 'crew', 'bowl']\n"
     ]
    }
   ],
   "source": [
    "\"\"\"\n",
    "Haircuts for advertising\n",
    "\"\"\"\n",
    "cuts_under_30 = [hairstyles[i] for i in range(8) if new_prices[i]<30 ]\n",
    "print(cuts_under_30)"
   ]
  }
 ],
 "metadata": {
  "kernelspec": {
   "display_name": "Python 3",
   "language": "python",
   "name": "python3"
  },
  "language_info": {
   "codemirror_mode": {
    "name": "ipython",
    "version": 3
   },
   "file_extension": ".py",
   "mimetype": "text/x-python",
   "name": "python",
   "nbconvert_exporter": "python",
   "pygments_lexer": "ipython3",
   "version": "3.8.8"
  }
 },
 "nbformat": 4,
 "nbformat_minor": 5
}
